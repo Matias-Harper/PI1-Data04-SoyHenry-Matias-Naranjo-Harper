{
 "cells": [
  {
   "cell_type": "code",
   "execution_count": 2,
   "metadata": {},
   "outputs": [],
   "source": [
    "import pandas as pd\n",
    "import numpy as np\n",
    "import pymysql\n",
    "from sqlalchemy import create_engine\n",
    "#import mysql.connector as connection\n"
   ]
  },
  {
   "cell_type": "code",
   "execution_count": 3,
   "metadata": {},
   "outputs": [],
   "source": [
    "#contraseña del servidor\n",
    "cont = \"SQL17Agosto1994\""
   ]
  },
  {
   "cell_type": "code",
   "execution_count": 30,
   "metadata": {},
   "outputs": [],
   "source": [
    "#funciones que serán utilizadas para la normalización\n",
    "def cod_cientific(valor):\n",
    "    if type(valor) != \"str\" :\n",
    "        valor = str(valor)\n",
    "    if (valor.find(\"E\") != -1):\n",
    "         lista  =valor.split(\"E\")\n",
    "         num_str = lista[0]\n",
    "         num_str = num_str.replace(\",\",\".\")\n",
    "         num = float(num_str)\n",
    "         mult_str = lista[1]\n",
    "         mult = int(mult_str[1:])\n",
    "         return (int(num*(10**mult)))\n",
    "    return int(valor)\n",
    "def llevar_13(valor):\n",
    "    if type(valor) != \"str\" :\n",
    "        valor = str(valor)\n",
    "    while len(valor)<13:\n",
    "        valor = \"0\" + valor\n",
    "    return valor\n",
    "def sacaguion(valor):\n",
    "    if type(valor) != \"str\" :\n",
    "        valor = str(valor)\n",
    "    if (valor.find(\"-\") != -1):\n",
    "        return valor.split(\"-\")[2]\n",
    "    return valor\n",
    "def redondeo(valor):\n",
    "    if type(valor) != \"float\" :\n",
    "        try:\n",
    "            valor = float(valor)\n",
    "        except: \n",
    "            return valor\n",
    "    valor = round(valor,2)\n",
    "    return valor"
   ]
  },
  {
   "cell_type": "code",
   "execution_count": 31,
   "metadata": {},
   "outputs": [],
   "source": [
    "#utilizamos los archivos como DataFrames de Pandas\n",
    "precios_sem1 = pd.read_csv(\"./Datasets/precios_semana_20200413.csv\", sep=\",\",encoding=\"UTF-16LE\")"
   ]
  },
  {
   "cell_type": "code",
   "execution_count": 32,
   "metadata": {},
   "outputs": [],
   "source": [
    "precios_sem2 = pd.read_json(\"./Datasets/precios_semana_20200503.json\")"
   ]
  },
  {
   "cell_type": "code",
   "execution_count": 33,
   "metadata": {},
   "outputs": [],
   "source": [
    "precios_sem3 = pd.read_csv(\"./Datasets/2precios_semana_20200518 copy.csv\", sep=\"|\")"
   ]
  },
  {
   "cell_type": "code",
   "execution_count": 34,
   "metadata": {},
   "outputs": [
    {
     "name": "stderr",
     "output_type": "stream",
     "text": [
      "/var/folders/4h/zd1h7yk93j37j92519m4z_y80000gn/T/ipykernel_3239/3651343649.py:1: DtypeWarning: Columns (0) have mixed types. Specify dtype option on import or set low_memory=False.\n",
      "  precios_sem4_1 = pd.read_csv(\"./Datasets/2.1precios_semanas_20200419_20200426.csv\",sep=\";\")\n"
     ]
    }
   ],
   "source": [
    "precios_sem4_1 = pd.read_csv(\"./Datasets/2.1precios_semanas_20200419_20200426.csv\",sep=\";\")"
   ]
  },
  {
   "cell_type": "code",
   "execution_count": 35,
   "metadata": {},
   "outputs": [
    {
     "name": "stderr",
     "output_type": "stream",
     "text": [
      "/var/folders/4h/zd1h7yk93j37j92519m4z_y80000gn/T/ipykernel_3239/3795902879.py:1: DtypeWarning: Columns (0) have mixed types. Specify dtype option on import or set low_memory=False.\n",
      "  precios_sem4_2 =pd.read_csv(\"./Datasets/2.2precios_semanas_20200419_20200426.csv\",sep=\";\")\n"
     ]
    }
   ],
   "source": [
    "precios_sem4_2 =pd.read_csv(\"./Datasets/2.2precios_semanas_20200419_20200426.csv\",sep=\";\")"
   ]
  },
  {
   "cell_type": "code",
   "execution_count": 36,
   "metadata": {},
   "outputs": [],
   "source": [
    "#definimos la función encargada de normalizar los DataFrames\n",
    "def CargaDataFrame(DataFrame):\n",
    "    #primero nos aseguramos que, sea un DataFrame de Pandas, tenga las dimensiones correctas y que sus columnas tengan los nombres correctos (no importa el orden)\n",
    "    columnas = ['precio', 'sucursal_id', 'producto_id']\n",
    "    if str(type(DataFrame)) != \"<class 'pandas.core.frame.DataFrame'>\":\n",
    "        print(\"Falla en la carga, inserte en el primer argumento un DataFrame de Pandas\")\n",
    "        return None\n",
    "    if DataFrame.shape[1] != 3:\n",
    "        print(\"Falla en la carga, el DataFrame tiene que poseer 3 columnas (en ese orden): \"\"precio\"\", \"\"producto_id\"\", \"\"sucursal_id\"\" \")\n",
    "        return None\n",
    "    if DataFrame.columns[0] not in columnas or DataFrame.columns[1] not in columnas or DataFrame.columns[2] not in columnas:\n",
    "        print(\"Los nombres de las columnas son incorrectos, ellos deben ser \", columnas, \" respetando las minúsculas\")\n",
    "        return None\n",
    "    DataFrame = DataFrame[[\"precio\",\"producto_id\", \"sucursal_id\"]] #acomoda el orden \n",
    "    DataFrame.dropna(thresh=3, inplace=True) #eliminamos filas vacías\n",
    "    DataFrame.dropna(subset=\"producto_id\", inplace=True) #eliminamos las filas que tengan el id de producto vació\n",
    "    DataFrame[\"producto_id\"] = DataFrame[\"producto_id\"].apply(sacaguion) #sacamos el guion y nos quedamos con el valor de 13 dígitos\n",
    "    DataFrame[\"producto_id\"] = DataFrame[\"producto_id\"].apply(cod_cientific) #procesamos los que tienen notación científica\n",
    "    DataFrame[\"precio\"] = DataFrame[\"precio\"].apply(redondeo) #redondeamos el precio a dos decimales\n",
    "    DataFrame[\"producto_id\"] = DataFrame[\"producto_id\"].apply(llevar_13) #agregamos ceros delante de los Id para que tengan 13 dígitos como el código de barras\n",
    "    DataFrame[\"sucursal_id\"] = DataFrame[\"sucursal_id\"].replace(to_replace=\"/\",value=\"-\",regex=True) #Cambiamos las barras laterales para igualar todos los id de sucursal\n",
    "    DataFrame.drop_duplicates(inplace=True) #eliminamos filas duplicadas\n",
    "    print(\"El DataFrame fue normalizado correctamente\")\n",
    "    #imprimimos las primers 5 filas para mostrar al usuario\n",
    "    print(DataFrame.head())\n",
    "    #Guardamos el DataFrame en nuestra base de datos en MySQL\n",
    "    cadena_conexion = \"mysql+pymysql://root:\" + cont + \"@localhost:3306/P1_v1\"\n",
    "    conexion = create_engine(cadena_conexion)\n",
    "    DataFrame.to_sql(name='Precio_semana', con = conexion, if_exists= \"append\", index=False) #index le indicamos que no esta indexado \n",
    "    print(\"Los archivos pertenecientes al DataFrame se cargaron correctamente\")\n",
    "    return(DataFrame)"
   ]
  },
  {
   "attachments": {},
   "cell_type": "markdown",
   "metadata": {},
   "source": [
    "Aplicamos la función a los DataFrames"
   ]
  },
  {
   "cell_type": "code",
   "execution_count": 37,
   "metadata": {},
   "outputs": [
    {
     "name": "stdout",
     "output_type": "stream",
     "text": [
      "El DataFrame fue normalizado correctamente\n",
      "   precio    producto_id sucursal_id\n",
      "0    29.9  0000000002288     2-1-187\n",
      "1    39.9  0000000002288     2-3-247\n",
      "2  499.99  0000000205870     9-1-685\n",
      "3  539.99  0000000205870      9-2-22\n",
      "4  519.99  0000000205870      9-2-59\n",
      "Los archivos pertenecientes al DataFrame se cargaron correctamente\n"
     ]
    }
   ],
   "source": [
    "sem2 = CargaDataFrame(precios_sem2)"
   ]
  },
  {
   "cell_type": "code",
   "execution_count": 38,
   "metadata": {},
   "outputs": [
    {
     "name": "stdout",
     "output_type": "stream",
     "text": [
      "El DataFrame fue normalizado correctamente\n",
      "   precio    producto_id sucursal_id\n",
      "0   29.90  0000000001663     2-1-014\n",
      "1   29.90  0000000002288     2-1-032\n",
      "2   39.90  0000000002288     2-1-096\n",
      "3  499.99  0000000205870     9-1-686\n",
      "4  519.99  0000000205870     9-2-248\n",
      "Los archivos pertenecientes al DataFrame se cargaron correctamente\n"
     ]
    }
   ],
   "source": [
    "sem1 = CargaDataFrame(precios_sem1)"
   ]
  },
  {
   "cell_type": "code",
   "execution_count": 39,
   "metadata": {},
   "outputs": [
    {
     "name": "stdout",
     "output_type": "stream",
     "text": [
      "El DataFrame fue normalizado correctamente\n",
      "   precio    producto_id sucursal_id\n",
      "0   29.90  0000000002288     2-1-009\n",
      "1   32.90  0000000002288     2-1-037\n",
      "2   36.90  0000000002288     2-1-090\n",
      "3   39.90  0000000002288     2-3-247\n",
      "4  499.99  0000000205870     9-1-430\n",
      "Los archivos pertenecientes al DataFrame se cargaron correctamente\n"
     ]
    }
   ],
   "source": [
    "sem3 = CargaDataFrame(precios_sem3)"
   ]
  },
  {
   "cell_type": "code",
   "execution_count": 40,
   "metadata": {},
   "outputs": [
    {
     "name": "stderr",
     "output_type": "stream",
     "text": [
      "/var/folders/4h/zd1h7yk93j37j92519m4z_y80000gn/T/ipykernel_3239/907726508.py:13: SettingWithCopyWarning: \n",
      "A value is trying to be set on a copy of a slice from a DataFrame\n",
      "\n",
      "See the caveats in the documentation: https://pandas.pydata.org/pandas-docs/stable/user_guide/indexing.html#returning-a-view-versus-a-copy\n",
      "  DataFrame.dropna(thresh=3, inplace=True) #eliminamos filas vacías\n",
      "/var/folders/4h/zd1h7yk93j37j92519m4z_y80000gn/T/ipykernel_3239/907726508.py:14: SettingWithCopyWarning: \n",
      "A value is trying to be set on a copy of a slice from a DataFrame\n",
      "\n",
      "See the caveats in the documentation: https://pandas.pydata.org/pandas-docs/stable/user_guide/indexing.html#returning-a-view-versus-a-copy\n",
      "  DataFrame.dropna(subset=\"producto_id\", inplace=True) #eliminamos las filas que tengan el id de producto vació\n",
      "/var/folders/4h/zd1h7yk93j37j92519m4z_y80000gn/T/ipykernel_3239/907726508.py:15: SettingWithCopyWarning: \n",
      "A value is trying to be set on a copy of a slice from a DataFrame.\n",
      "Try using .loc[row_indexer,col_indexer] = value instead\n",
      "\n",
      "See the caveats in the documentation: https://pandas.pydata.org/pandas-docs/stable/user_guide/indexing.html#returning-a-view-versus-a-copy\n",
      "  DataFrame[\"producto_id\"] = DataFrame[\"producto_id\"].apply(sacaguion) #sacamos el guion y nos quedamos con el valor de 13 dígitos\n",
      "/var/folders/4h/zd1h7yk93j37j92519m4z_y80000gn/T/ipykernel_3239/907726508.py:16: SettingWithCopyWarning: \n",
      "A value is trying to be set on a copy of a slice from a DataFrame.\n",
      "Try using .loc[row_indexer,col_indexer] = value instead\n",
      "\n",
      "See the caveats in the documentation: https://pandas.pydata.org/pandas-docs/stable/user_guide/indexing.html#returning-a-view-versus-a-copy\n",
      "  DataFrame[\"producto_id\"] = DataFrame[\"producto_id\"].apply(cod_cientific) #procesamos los que tienen notación científica\n",
      "/var/folders/4h/zd1h7yk93j37j92519m4z_y80000gn/T/ipykernel_3239/907726508.py:17: SettingWithCopyWarning: \n",
      "A value is trying to be set on a copy of a slice from a DataFrame.\n",
      "Try using .loc[row_indexer,col_indexer] = value instead\n",
      "\n",
      "See the caveats in the documentation: https://pandas.pydata.org/pandas-docs/stable/user_guide/indexing.html#returning-a-view-versus-a-copy\n",
      "  DataFrame[\"precio\"] = DataFrame[\"precio\"].apply(redondeo) #redondeamos el precio a dos decimales\n",
      "/var/folders/4h/zd1h7yk93j37j92519m4z_y80000gn/T/ipykernel_3239/907726508.py:18: SettingWithCopyWarning: \n",
      "A value is trying to be set on a copy of a slice from a DataFrame.\n",
      "Try using .loc[row_indexer,col_indexer] = value instead\n",
      "\n",
      "See the caveats in the documentation: https://pandas.pydata.org/pandas-docs/stable/user_guide/indexing.html#returning-a-view-versus-a-copy\n",
      "  DataFrame[\"producto_id\"] = DataFrame[\"producto_id\"].apply(llevar_13) #agregamos ceros delante de los Id para que tengan 13 dígitos como el código de barras\n",
      "/var/folders/4h/zd1h7yk93j37j92519m4z_y80000gn/T/ipykernel_3239/907726508.py:19: SettingWithCopyWarning: \n",
      "A value is trying to be set on a copy of a slice from a DataFrame.\n",
      "Try using .loc[row_indexer,col_indexer] = value instead\n",
      "\n",
      "See the caveats in the documentation: https://pandas.pydata.org/pandas-docs/stable/user_guide/indexing.html#returning-a-view-versus-a-copy\n",
      "  DataFrame[\"sucursal_id\"] = DataFrame[\"sucursal_id\"].replace(to_replace=\"/\",value=\"-\",regex=True) #Cambiamos las barras laterales para igualar todos los id de sucursal\n",
      "/var/folders/4h/zd1h7yk93j37j92519m4z_y80000gn/T/ipykernel_3239/907726508.py:20: SettingWithCopyWarning: \n",
      "A value is trying to be set on a copy of a slice from a DataFrame\n",
      "\n",
      "See the caveats in the documentation: https://pandas.pydata.org/pandas-docs/stable/user_guide/indexing.html#returning-a-view-versus-a-copy\n",
      "  DataFrame.drop_duplicates(inplace=True) #eliminamos filas duplicadas\n"
     ]
    },
    {
     "name": "stdout",
     "output_type": "stream",
     "text": [
      "El DataFrame fue normalizado correctamente\n",
      "    precio    producto_id sucursal_id\n",
      "0    399.0  0000000002288     2-1-092\n",
      "1    299.0  0000000002288     2-1-206\n",
      "2    399.0  0000000002288     2-2-241\n",
      "3  49999.0  0000000205870     9-1-430\n",
      "4  53999.0  0000000205870       9-2-4\n",
      "Los archivos pertenecientes al DataFrame se cargaron correctamente\n"
     ]
    }
   ],
   "source": [
    "sem4_1 = CargaDataFrame(precios_sem4_1)"
   ]
  },
  {
   "cell_type": "code",
   "execution_count": 41,
   "metadata": {},
   "outputs": [
    {
     "name": "stderr",
     "output_type": "stream",
     "text": [
      "/var/folders/4h/zd1h7yk93j37j92519m4z_y80000gn/T/ipykernel_3239/907726508.py:13: SettingWithCopyWarning: \n",
      "A value is trying to be set on a copy of a slice from a DataFrame\n",
      "\n",
      "See the caveats in the documentation: https://pandas.pydata.org/pandas-docs/stable/user_guide/indexing.html#returning-a-view-versus-a-copy\n",
      "  DataFrame.dropna(thresh=3, inplace=True) #eliminamos filas vacías\n",
      "/var/folders/4h/zd1h7yk93j37j92519m4z_y80000gn/T/ipykernel_3239/907726508.py:14: SettingWithCopyWarning: \n",
      "A value is trying to be set on a copy of a slice from a DataFrame\n",
      "\n",
      "See the caveats in the documentation: https://pandas.pydata.org/pandas-docs/stable/user_guide/indexing.html#returning-a-view-versus-a-copy\n",
      "  DataFrame.dropna(subset=\"producto_id\", inplace=True) #eliminamos las filas que tengan el id de producto vació\n",
      "/var/folders/4h/zd1h7yk93j37j92519m4z_y80000gn/T/ipykernel_3239/907726508.py:15: SettingWithCopyWarning: \n",
      "A value is trying to be set on a copy of a slice from a DataFrame.\n",
      "Try using .loc[row_indexer,col_indexer] = value instead\n",
      "\n",
      "See the caveats in the documentation: https://pandas.pydata.org/pandas-docs/stable/user_guide/indexing.html#returning-a-view-versus-a-copy\n",
      "  DataFrame[\"producto_id\"] = DataFrame[\"producto_id\"].apply(sacaguion) #sacamos el guion y nos quedamos con el valor de 13 dígitos\n",
      "/var/folders/4h/zd1h7yk93j37j92519m4z_y80000gn/T/ipykernel_3239/907726508.py:16: SettingWithCopyWarning: \n",
      "A value is trying to be set on a copy of a slice from a DataFrame.\n",
      "Try using .loc[row_indexer,col_indexer] = value instead\n",
      "\n",
      "See the caveats in the documentation: https://pandas.pydata.org/pandas-docs/stable/user_guide/indexing.html#returning-a-view-versus-a-copy\n",
      "  DataFrame[\"producto_id\"] = DataFrame[\"producto_id\"].apply(cod_cientific) #procesamos los que tienen notación científica\n",
      "/var/folders/4h/zd1h7yk93j37j92519m4z_y80000gn/T/ipykernel_3239/907726508.py:17: SettingWithCopyWarning: \n",
      "A value is trying to be set on a copy of a slice from a DataFrame.\n",
      "Try using .loc[row_indexer,col_indexer] = value instead\n",
      "\n",
      "See the caveats in the documentation: https://pandas.pydata.org/pandas-docs/stable/user_guide/indexing.html#returning-a-view-versus-a-copy\n",
      "  DataFrame[\"precio\"] = DataFrame[\"precio\"].apply(redondeo) #redondeamos el precio a dos decimales\n",
      "/var/folders/4h/zd1h7yk93j37j92519m4z_y80000gn/T/ipykernel_3239/907726508.py:18: SettingWithCopyWarning: \n",
      "A value is trying to be set on a copy of a slice from a DataFrame.\n",
      "Try using .loc[row_indexer,col_indexer] = value instead\n",
      "\n",
      "See the caveats in the documentation: https://pandas.pydata.org/pandas-docs/stable/user_guide/indexing.html#returning-a-view-versus-a-copy\n",
      "  DataFrame[\"producto_id\"] = DataFrame[\"producto_id\"].apply(llevar_13) #agregamos ceros delante de los Id para que tengan 13 dígitos como el código de barras\n",
      "/var/folders/4h/zd1h7yk93j37j92519m4z_y80000gn/T/ipykernel_3239/907726508.py:19: SettingWithCopyWarning: \n",
      "A value is trying to be set on a copy of a slice from a DataFrame.\n",
      "Try using .loc[row_indexer,col_indexer] = value instead\n",
      "\n",
      "See the caveats in the documentation: https://pandas.pydata.org/pandas-docs/stable/user_guide/indexing.html#returning-a-view-versus-a-copy\n",
      "  DataFrame[\"sucursal_id\"] = DataFrame[\"sucursal_id\"].replace(to_replace=\"/\",value=\"-\",regex=True) #Cambiamos las barras laterales para igualar todos los id de sucursal\n",
      "/var/folders/4h/zd1h7yk93j37j92519m4z_y80000gn/T/ipykernel_3239/907726508.py:20: SettingWithCopyWarning: \n",
      "A value is trying to be set on a copy of a slice from a DataFrame\n",
      "\n",
      "See the caveats in the documentation: https://pandas.pydata.org/pandas-docs/stable/user_guide/indexing.html#returning-a-view-versus-a-copy\n",
      "  DataFrame.drop_duplicates(inplace=True) #eliminamos filas duplicadas\n"
     ]
    },
    {
     "name": "stdout",
     "output_type": "stream",
     "text": [
      "El DataFrame fue normalizado correctamente\n",
      "   precio    producto_id sucursal_id\n",
      "0    29.9  0000000002288     2-1-184\n",
      "1    39.9  0000000002288     2-1-206\n",
      "2  499.99  0000000205870     9-1-430\n",
      "3  539.99  0000000205870     9-2-107\n",
      "4  539.99  0000000205870      9-3-18\n",
      "Los archivos pertenecientes al DataFrame se cargaron correctamente\n"
     ]
    }
   ],
   "source": [
    "sem4_2 = CargaDataFrame(precios_sem4_2)"
   ]
  }
 ],
 "metadata": {
  "kernelspec": {
   "display_name": "Python 3.10.4 64-bit",
   "language": "python",
   "name": "python3"
  },
  "language_info": {
   "codemirror_mode": {
    "name": "ipython",
    "version": 3
   },
   "file_extension": ".py",
   "mimetype": "text/x-python",
   "name": "python",
   "nbconvert_exporter": "python",
   "pygments_lexer": "ipython3",
   "version": "3.11.0"
  },
  "orig_nbformat": 4,
  "vscode": {
   "interpreter": {
    "hash": "aee8b7b246df8f9039afb4144a1f6fd8d2ca17a180786b69acc140d282b71a49"
   }
  }
 },
 "nbformat": 4,
 "nbformat_minor": 2
}
